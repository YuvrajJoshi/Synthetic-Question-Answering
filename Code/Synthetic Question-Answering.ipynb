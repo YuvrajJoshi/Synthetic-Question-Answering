{
 "cells": [
  {
   "cell_type": "markdown",
   "metadata": {},
   "source": [
    "# Synthetic Question Answering\n",
    "Work on Babi Dataset from Facebook Research."
   ]
  },
  {
   "cell_type": "code",
   "execution_count": 2,
   "metadata": {},
   "outputs": [],
   "source": [
    "import pickle\n",
    "import numpy as np"
   ]
  },
  {
   "cell_type": "code",
   "execution_count": 3,
   "metadata": {},
   "outputs": [],
   "source": [
    "with open('train_qa.txt', \"rb\") as fp:    #Unpickling\n",
    "    train_data = pickle.load(fp)"
   ]
  },
  {
   "cell_type": "code",
   "execution_count": 4,
   "metadata": {},
   "outputs": [],
   "source": [
    "with open('test_qa.txt', \"rb\") as fp:     #Unpickling\n",
    "    test_data = pickle.load(fp)"
   ]
  },
  {
   "cell_type": "markdown",
   "metadata": {},
   "source": [
    "### Exploring the Format of the Data"
   ]
  },
  {
   "cell_type": "code",
   "execution_count": 5,
   "metadata": {},
   "outputs": [
    {
     "name": "stdout",
     "output_type": "stream",
     "text": [
      "Train type: <class 'list'>\n",
      "Test type: <class 'list'>\n",
      "Train length: 10000\n",
      "Test length: 1000\n"
     ]
    }
   ],
   "source": [
    "train_type = type(train_data)\n",
    "print(f\"Train type: {train_type}\")\n",
    "test_type = type(test_data)\n",
    "print(f\"Test type: {test_type}\")\n",
    "train_len = len(train_data)\n",
    "print(f\"Train length: {train_len}\")\n",
    "test_len = len(test_data)\n",
    "print(f\"Test length: {test_len}\")"
   ]
  },
  {
   "cell_type": "code",
   "execution_count": 6,
   "metadata": {},
   "outputs": [
    {
     "data": {
      "text/plain": [
       "(['Mary',\n",
       "  'moved',\n",
       "  'to',\n",
       "  'the',\n",
       "  'bathroom',\n",
       "  '.',\n",
       "  'Sandra',\n",
       "  'journeyed',\n",
       "  'to',\n",
       "  'the',\n",
       "  'bedroom',\n",
       "  '.'],\n",
       " ['Is', 'Sandra', 'in', 'the', 'hallway', '?'],\n",
       " 'no')"
      ]
     },
     "execution_count": 6,
     "metadata": {},
     "output_type": "execute_result"
    }
   ],
   "source": [
    "train_data[0]"
   ]
  },
  {
   "cell_type": "code",
   "execution_count": 7,
   "metadata": {},
   "outputs": [
    {
     "data": {
      "text/plain": [
       "'Mary moved to the bathroom . Sandra journeyed to the bedroom .'"
      ]
     },
     "execution_count": 7,
     "metadata": {},
     "output_type": "execute_result"
    }
   ],
   "source": [
    "\" \".join(train_data[0][0])"
   ]
  },
  {
   "cell_type": "code",
   "execution_count": 8,
   "metadata": {},
   "outputs": [
    {
     "data": {
      "text/plain": [
       "'Is Sandra in the hallway ?'"
      ]
     },
     "execution_count": 8,
     "metadata": {},
     "output_type": "execute_result"
    }
   ],
   "source": [
    "\" \".join(train_data[0][1])"
   ]
  },
  {
   "cell_type": "code",
   "execution_count": 9,
   "metadata": {},
   "outputs": [
    {
     "data": {
      "text/plain": [
       "'no'"
      ]
     },
     "execution_count": 9,
     "metadata": {},
     "output_type": "execute_result"
    }
   ],
   "source": [
    "train_data[0][2]"
   ]
  },
  {
   "cell_type": "markdown",
   "metadata": {},
   "source": [
    "#### We see that our data has some Stories/Statements, based on those we have some Questions and an Answer to those questions in \"yes\" or \"no.\" \n",
    "We will call our stories/statements as a set of inputs 'X', questions as query 'q' and the output/answer to those as 'a'."
   ]
  },
  {
   "cell_type": "markdown",
   "metadata": {},
   "source": [
    "### Creating a Vocabulary of All Words"
   ]
  },
  {
   "cell_type": "code",
   "execution_count": 10,
   "metadata": {},
   "outputs": [],
   "source": [
    "vocab = set()\n",
    "full_data = test_data + train_data"
   ]
  },
  {
   "cell_type": "code",
   "execution_count": 11,
   "metadata": {},
   "outputs": [],
   "source": [
    "for story, question, answer in full_data:\n",
    "    vocab = vocab.union(set(story))\n",
    "    vocab = vocab.union(set(question))"
   ]
  },
  {
   "cell_type": "code",
   "execution_count": 12,
   "metadata": {},
   "outputs": [],
   "source": [
    "vocab.add('no')\n",
    "vocab.add('yes')"
   ]
  },
  {
   "cell_type": "code",
   "execution_count": 13,
   "metadata": {},
   "outputs": [],
   "source": [
    "# vocab"
   ]
  },
  {
   "cell_type": "code",
   "execution_count": 14,
   "metadata": {},
   "outputs": [
    {
     "data": {
      "text/plain": [
       "156"
      ]
     },
     "execution_count": 14,
     "metadata": {},
     "output_type": "execute_result"
    }
   ],
   "source": [
    "max_story_len = max([len(data[0]) for data in full_data])\n",
    "max_story_len"
   ]
  },
  {
   "cell_type": "code",
   "execution_count": 15,
   "metadata": {},
   "outputs": [
    {
     "data": {
      "text/plain": [
       "6"
      ]
     },
     "execution_count": 15,
     "metadata": {},
     "output_type": "execute_result"
    }
   ],
   "source": [
    "max_query_len = max([len(data[1]) for data in full_data])\n",
    "max_query_len"
   ]
  },
  {
   "cell_type": "code",
   "execution_count": 16,
   "metadata": {},
   "outputs": [],
   "source": [
    "#add an extra space to hold a 0 for Keras' pad sequences\n",
    "vocab_size = len(vocab) + 1"
   ]
  },
  {
   "cell_type": "markdown",
   "metadata": {},
   "source": [
    "### Tokenization"
   ]
  },
  {
   "cell_type": "code",
   "execution_count": 17,
   "metadata": {},
   "outputs": [
    {
     "name": "stderr",
     "output_type": "stream",
     "text": [
      "Using TensorFlow backend.\n"
     ]
    }
   ],
   "source": [
    "from keras.preprocessing.sequence import pad_sequences\n",
    "from keras.preprocessing.text import Tokenizer"
   ]
  },
  {
   "cell_type": "code",
   "execution_count": 18,
   "metadata": {},
   "outputs": [],
   "source": [
    "tokenizer = Tokenizer(filters=[])\n",
    "tokenizer.fit_on_texts(vocab)"
   ]
  },
  {
   "cell_type": "code",
   "execution_count": 19,
   "metadata": {},
   "outputs": [
    {
     "name": "stdout",
     "output_type": "stream",
     "text": [
      "{'mary': 1, 'sandra': 2, '?': 3, 'bathroom': 4, 'office': 5, 'picked': 6, 'moved': 7, '.': 8, 'went': 9, 'journeyed': 10, 'hallway': 11, 'is': 12, 'apple': 13, 'yes': 14, 'put': 15, 'in': 16, 'daniel': 17, 'discarded': 18, 'milk': 19, 'took': 20, 'kitchen': 21, 'down': 22, 'garden': 23, 'travelled': 24, 'back': 25, 'dropped': 26, 'john': 27, 'bedroom': 28, 'to': 29, 'the': 30, 'there': 31, 'got': 32, 'no': 33, 'grabbed': 34, 'left': 35, 'up': 36, 'football': 37}\n"
     ]
    }
   ],
   "source": [
    "#tokens assigned to each unique from our vocab(vocabulary)\n",
    "print(tokenizer.word_index)"
   ]
  },
  {
   "cell_type": "markdown",
   "metadata": {},
   "source": [
    "### Vectorization"
   ]
  },
  {
   "cell_type": "code",
   "execution_count": 20,
   "metadata": {},
   "outputs": [],
   "source": [
    "def vectorize_data(data, word_index=tokenizer.word_index, max_story_len=max_story_len,max_query_len=max_query_len):\n",
    "    '''\n",
    "    INPUT:\n",
    "    \n",
    "    data: our data consisting Statements, Questions and Answers\n",
    "    word_index: word index dictionary from tokenizer (which we created in the tokenization phase)\n",
    "    max_story_len: the length of the longest group of input statements\n",
    "    maax_question_len: length of longest question\n",
    "    \n",
    "    \n",
    "    OUTPUT:\n",
    "    \n",
    "    returns a tuple (X,Xq,Y) of padded sequences.\n",
    "    '''\n",
    "    #Stories\n",
    "    X = []\n",
    "    #Query/Questions\n",
    "    Xq = []\n",
    "    #Correct Answer\n",
    "    Y = []\n",
    "    \n",
    "    for story, query, answer in data:\n",
    "        \n",
    "        #Grab the word index for every word in story\n",
    "        x = [word_index[word.lower()] for word in story]\n",
    "        #Grab the word index for every word in query\n",
    "        xq = [word_index[word.lower()] for word in query]\n",
    "        \n",
    "        #Now grab the answers, index 0 is reserved so +1\n",
    "        y = np.zeros(len(word_index) + 1)\n",
    "        #Use numpy logic to create this assignment\n",
    "        y[word_index[answer]] = 1\n",
    "        \n",
    "        #Append the gathered values to their respective lists\n",
    "        X.append(x)\n",
    "        Xq.append(xq)\n",
    "        Y.append(y)\n",
    "    \n",
    "    #Finally, pad the sequences based on their max length so that RNN can be trained on uniformly long sequences\n",
    "    \n",
    "    return (pad_sequences(X, maxlen=max_story_len), pad_sequences(Xq, maxlen=max_query_len), np.array(Y))"
   ]
  },
  {
   "cell_type": "code",
   "execution_count": 21,
   "metadata": {},
   "outputs": [],
   "source": [
    "train_inputs, train_queries, train_answers = vectorize_data(train_data)"
   ]
  },
  {
   "cell_type": "code",
   "execution_count": 22,
   "metadata": {},
   "outputs": [],
   "source": [
    "test_inputs, test_queries, test_answers = vectorize_data(test_data)"
   ]
  },
  {
   "cell_type": "markdown",
   "metadata": {},
   "source": [
    "For train and test both we will have as depicted below:"
   ]
  },
  {
   "cell_type": "code",
   "execution_count": 23,
   "metadata": {},
   "outputs": [
    {
     "data": {
      "text/plain": [
       "array([[ 0,  0,  0, ..., 30, 28,  8],\n",
       "       [ 0,  0,  0, ..., 30, 11,  8],\n",
       "       [ 0,  0,  0, ..., 30,  4,  8],\n",
       "       ...,\n",
       "       [ 0,  0,  0, ..., 30, 28,  8],\n",
       "       [ 0,  0,  0, ..., 19, 31,  8],\n",
       "       [ 0,  0,  0, ..., 13, 31,  8]])"
      ]
     },
     "execution_count": 23,
     "metadata": {},
     "output_type": "execute_result"
    }
   ],
   "source": [
    "train_inputs"
   ]
  },
  {
   "cell_type": "markdown",
   "metadata": {},
   "source": [
    "The inputs are an array of lists having padded sequences containing the word indexes corresponding to the word in that particular story."
   ]
  },
  {
   "cell_type": "code",
   "execution_count": 24,
   "metadata": {},
   "outputs": [
    {
     "data": {
      "text/plain": [
       "array([[12,  2, 16, 30, 11,  3],\n",
       "       [12, 17, 16, 30,  4,  3],\n",
       "       [12, 17, 16, 30,  5,  3],\n",
       "       ...,\n",
       "       [12,  2, 16, 30, 11,  3],\n",
       "       [12,  1, 16, 30, 21,  3],\n",
       "       [12,  1, 16, 30, 28,  3]])"
      ]
     },
     "execution_count": 24,
     "metadata": {},
     "output_type": "execute_result"
    }
   ],
   "source": [
    "train_queries"
   ]
  },
  {
   "cell_type": "markdown",
   "metadata": {},
   "source": [
    "Queries will be arrays of list containing for each item of the array i.e a query, the word indexes of the words present in that query."
   ]
  },
  {
   "cell_type": "code",
   "execution_count": 25,
   "metadata": {},
   "outputs": [
    {
     "data": {
      "text/plain": [
       "array([[0., 0., 0., ..., 0., 0., 0.],\n",
       "       [0., 0., 0., ..., 0., 0., 0.],\n",
       "       [0., 0., 0., ..., 0., 0., 0.],\n",
       "       ...,\n",
       "       [0., 0., 0., ..., 0., 0., 0.],\n",
       "       [0., 0., 0., ..., 0., 0., 0.],\n",
       "       [0., 0., 0., ..., 0., 0., 0.]])"
      ]
     },
     "execution_count": 25,
     "metadata": {},
     "output_type": "execute_result"
    }
   ],
   "source": [
    "train_answers"
   ]
  },
  {
   "cell_type": "markdown",
   "metadata": {},
   "source": [
    "And finally answers will also be an array of list where either the yes or no word_index will be marked according to the answer."
   ]
  },
  {
   "cell_type": "markdown",
   "metadata": {},
   "source": [
    "### Building the Model"
   ]
  },
  {
   "cell_type": "code",
   "execution_count": 26,
   "metadata": {},
   "outputs": [],
   "source": [
    "from keras.models import Sequential, Model\n",
    "from keras.layers.embeddings import Embedding\n",
    "from keras.layers import Input, Activation, Dense, Permute, Dropout\n",
    "from keras.layers import add, dot, concatenate\n",
    "from keras.layers import LSTM"
   ]
  },
  {
   "cell_type": "markdown",
   "metadata": {},
   "source": [
    "#### Defining Placeholders for Inputs\n",
    "Since we have two inputs (stories and questions), so we need to use placeholders. `Input()` is used to instantiate a Keras tensor."
   ]
  },
  {
   "cell_type": "code",
   "execution_count": 27,
   "metadata": {},
   "outputs": [],
   "source": [
    "#Placeholder shape=(max_story_len, batch_size) \n",
    "#We haven't defined the batch size yet.\n",
    "input_sequence = Input((max_story_len,))\n",
    "question = Input((max_query_len,))"
   ]
  },
  {
   "cell_type": "markdown",
   "metadata": {},
   "source": [
    "#### Building Encoders\n",
    "*Input Encoder m*"
   ]
  },
  {
   "cell_type": "code",
   "execution_count": 81,
   "metadata": {},
   "outputs": [],
   "source": [
    "# Input gets embedded to a sequence of vectors\n",
    "input_encoder_m = Sequential()\n",
    "input_encoder_m.add(Embedding(input_dim=vocab_size, output_dim=256))\n",
    "input_encoder_m.add(Dropout(0.4))\n",
    "# This encoder will output:\n",
    "# (samples, story_maxlen, embedding_dim)"
   ]
  },
  {
   "cell_type": "markdown",
   "metadata": {},
   "source": [
    "*Input Encoder c*"
   ]
  },
  {
   "cell_type": "code",
   "execution_count": 82,
   "metadata": {},
   "outputs": [],
   "source": [
    "# embed the input into a sequence of vectors of size query_maxlen\n",
    "input_encoder_c = Sequential()\n",
    "input_encoder_c.add(Embedding(input_dim=vocab_size, output_dim=max_query_len))\n",
    "input_encoder_c.add(Dropout(0.4))\n",
    "# output: (samples, story_maxlen, query_maxlen)"
   ]
  },
  {
   "cell_type": "markdown",
   "metadata": {},
   "source": [
    "*Question Encoder*"
   ]
  },
  {
   "cell_type": "code",
   "execution_count": 83,
   "metadata": {},
   "outputs": [],
   "source": [
    "# embed the question into a sequence of vectors\n",
    "question_encoder = Sequential()\n",
    "question_encoder.add(Embedding(input_dim=vocab_size,output_dim=256,input_length=max_query_len))\n",
    "question_encoder.add(Dropout(0.4))\n",
    "# output: (samples, query_maxlen, embedding_dim)"
   ]
  },
  {
   "cell_type": "markdown",
   "metadata": {},
   "source": [
    "#### Encode the sequences"
   ]
  },
  {
   "cell_type": "code",
   "execution_count": 84,
   "metadata": {},
   "outputs": [],
   "source": [
    "# encode input sequence and questions (which are indices)\n",
    "# to sequences of dense vectors\n",
    "input_encoded_m = input_encoder_m(input_sequence)\n",
    "input_encoded_c = input_encoder_c(input_sequence)\n",
    "question_encoded = question_encoder(question)"
   ]
  },
  {
   "cell_type": "code",
   "execution_count": 85,
   "metadata": {},
   "outputs": [],
   "source": [
    "#Computing the match between first input vector seq and the query\n",
    "match = dot([input_encoded_m,question_encoded], axes=(2,2))\n",
    "match = Activation('softmax')(match)\n",
    "#match is a probability vector over the inputs"
   ]
  },
  {
   "cell_type": "code",
   "execution_count": 86,
   "metadata": {},
   "outputs": [],
   "source": [
    "#Adding the match matrix with second input vector sequence\n",
    "response = add([match, input_encoded_c])\n",
    "response = Permute((2,1))(response)"
   ]
  },
  {
   "cell_type": "code",
   "execution_count": 87,
   "metadata": {},
   "outputs": [],
   "source": [
    "#Concatenating the match matrix with the question vector sequence\n",
    "answer = concatenate([response, question_encoded])"
   ]
  },
  {
   "cell_type": "code",
   "execution_count": 88,
   "metadata": {},
   "outputs": [],
   "source": [
    "#Reduce with RNN (LSTM)\n",
    "answer = LSTM(32)(answer)"
   ]
  },
  {
   "cell_type": "code",
   "execution_count": 89,
   "metadata": {},
   "outputs": [],
   "source": [
    "#Performing regularization again\n",
    "answer = Dropout(0.5)(answer)\n",
    "answer = Dense(vocab_size)(answer)     # (samples, vocab_size)"
   ]
  },
  {
   "cell_type": "code",
   "execution_count": 90,
   "metadata": {},
   "outputs": [],
   "source": [
    "#output a probability distribution over the vocabulary\n",
    "answer = Activation('softmax')(answer)\n",
    "\n",
    "#build the final model\n",
    "model = Model([input_sequence, question], answer)\n",
    "model.compile(optimizer='rmsprop', loss='categorical_crossentropy', metrics=['accuracy'])"
   ]
  },
  {
   "cell_type": "code",
   "execution_count": 91,
   "metadata": {},
   "outputs": [
    {
     "name": "stdout",
     "output_type": "stream",
     "text": [
      "Model: \"model_4\"\n",
      "__________________________________________________________________________________________________\n",
      "Layer (type)                    Output Shape         Param #     Connected to                     \n",
      "==================================================================================================\n",
      "input_1 (InputLayer)            (None, 156)          0                                            \n",
      "__________________________________________________________________________________________________\n",
      "input_2 (InputLayer)            (None, 6)            0                                            \n",
      "__________________________________________________________________________________________________\n",
      "sequential_10 (Sequential)      multiple             9728        input_1[0][0]                    \n",
      "__________________________________________________________________________________________________\n",
      "sequential_12 (Sequential)      (None, 6, 256)       9728        input_2[0][0]                    \n",
      "__________________________________________________________________________________________________\n",
      "dot_4 (Dot)                     (None, 156, 6)       0           sequential_10[1][0]              \n",
      "                                                                 sequential_12[1][0]              \n",
      "__________________________________________________________________________________________________\n",
      "activation_7 (Activation)       (None, 156, 6)       0           dot_4[0][0]                      \n",
      "__________________________________________________________________________________________________\n",
      "sequential_11 (Sequential)      multiple             228         input_1[0][0]                    \n",
      "__________________________________________________________________________________________________\n",
      "add_4 (Add)                     (None, 156, 6)       0           activation_7[0][0]               \n",
      "                                                                 sequential_11[1][0]              \n",
      "__________________________________________________________________________________________________\n",
      "permute_4 (Permute)             (None, 6, 156)       0           add_4[0][0]                      \n",
      "__________________________________________________________________________________________________\n",
      "concatenate_4 (Concatenate)     (None, 6, 412)       0           permute_4[0][0]                  \n",
      "                                                                 sequential_12[1][0]              \n",
      "__________________________________________________________________________________________________\n",
      "lstm_4 (LSTM)                   (None, 32)           56960       concatenate_4[0][0]              \n",
      "__________________________________________________________________________________________________\n",
      "dropout_16 (Dropout)            (None, 32)           0           lstm_4[0][0]                     \n",
      "__________________________________________________________________________________________________\n",
      "dense_4 (Dense)                 (None, 38)           1254        dropout_16[0][0]                 \n",
      "__________________________________________________________________________________________________\n",
      "activation_8 (Activation)       (None, 38)           0           dense_4[0][0]                    \n",
      "==================================================================================================\n",
      "Total params: 77,898\n",
      "Trainable params: 77,898\n",
      "Non-trainable params: 0\n",
      "__________________________________________________________________________________________________\n"
     ]
    }
   ],
   "source": [
    "model.summary()"
   ]
  },
  {
   "cell_type": "code",
   "execution_count": 92,
   "metadata": {},
   "outputs": [
    {
     "name": "stdout",
     "output_type": "stream",
     "text": [
      "Train on 10000 samples, validate on 1000 samples\n",
      "Epoch 1/200\n",
      "10000/10000 [==============================] - 9s 933us/step - loss: 0.9197 - accuracy: 0.4987 - val_loss: 0.6954 - val_accuracy: 0.4970\n",
      "Epoch 2/200\n",
      "10000/10000 [==============================] - 8s 805us/step - loss: 0.7030 - accuracy: 0.4929 - val_loss: 0.6944 - val_accuracy: 0.4970\n",
      "Epoch 3/200\n",
      "10000/10000 [==============================] - 8s 823us/step - loss: 0.6954 - accuracy: 0.5022 - val_loss: 0.6934 - val_accuracy: 0.5030\n",
      "Epoch 4/200\n",
      "10000/10000 [==============================] - 10s 981us/step - loss: 0.6956 - accuracy: 0.4921 - val_loss: 0.6935 - val_accuracy: 0.4970\n",
      "Epoch 5/200\n",
      "10000/10000 [==============================] - 10s 986us/step - loss: 0.6945 - accuracy: 0.4976 - val_loss: 0.6933 - val_accuracy: 0.4970\n",
      "Epoch 6/200\n",
      "10000/10000 [==============================] - 9s 886us/step - loss: 0.6942 - accuracy: 0.5030 - val_loss: 0.6987 - val_accuracy: 0.4970\n",
      "Epoch 7/200\n",
      "10000/10000 [==============================] - 9s 877us/step - loss: 0.6942 - accuracy: 0.4991 - val_loss: 0.6973 - val_accuracy: 0.4980\n",
      "Epoch 8/200\n",
      "10000/10000 [==============================] - 9s 925us/step - loss: 0.6922 - accuracy: 0.5153 - val_loss: 0.6897 - val_accuracy: 0.5260\n",
      "Epoch 9/200\n",
      "10000/10000 [==============================] - 9s 881us/step - loss: 0.6264 - accuracy: 0.6668 - val_loss: 0.5422 - val_accuracy: 0.7250\n",
      "Epoch 10/200\n",
      "10000/10000 [==============================] - 9s 866us/step - loss: 0.4676 - accuracy: 0.8034 - val_loss: 0.4223 - val_accuracy: 0.8320\n",
      "Epoch 11/200\n",
      "10000/10000 [==============================] - 9s 873us/step - loss: 0.4131 - accuracy: 0.8292 - val_loss: 0.4105 - val_accuracy: 0.8210\n",
      "Epoch 12/200\n",
      "10000/10000 [==============================] - 9s 866us/step - loss: 0.3881 - accuracy: 0.8417 - val_loss: 0.4284 - val_accuracy: 0.8370\n",
      "Epoch 13/200\n",
      "10000/10000 [==============================] - 9s 861us/step - loss: 0.3731 - accuracy: 0.8489 - val_loss: 0.3985 - val_accuracy: 0.8390\n",
      "Epoch 14/200\n",
      "10000/10000 [==============================] - 9s 866us/step - loss: 0.3643 - accuracy: 0.8501 - val_loss: 0.3791 - val_accuracy: 0.8330\n",
      "Epoch 15/200\n",
      "10000/10000 [==============================] - 9s 866us/step - loss: 0.3522 - accuracy: 0.8544 - val_loss: 0.4026 - val_accuracy: 0.8100\n",
      "Epoch 16/200\n",
      "10000/10000 [==============================] - 9s 864us/step - loss: 0.3437 - accuracy: 0.8554 - val_loss: 0.3690 - val_accuracy: 0.8330\n",
      "Epoch 17/200\n",
      "10000/10000 [==============================] - 9s 861us/step - loss: 0.3288 - accuracy: 0.8610 - val_loss: 0.3689 - val_accuracy: 0.8350\n",
      "Epoch 18/200\n",
      "10000/10000 [==============================] - 9s 869us/step - loss: 0.3281 - accuracy: 0.8604 - val_loss: 0.3689 - val_accuracy: 0.8230\n",
      "Epoch 19/200\n",
      "10000/10000 [==============================] - 9s 861us/step - loss: 0.3192 - accuracy: 0.8630 - val_loss: 0.3775 - val_accuracy: 0.8370\n",
      "Epoch 20/200\n",
      "10000/10000 [==============================] - 9s 858us/step - loss: 0.3178 - accuracy: 0.8627 - val_loss: 0.3526 - val_accuracy: 0.8320\n",
      "Epoch 21/200\n",
      "10000/10000 [==============================] - 9s 858us/step - loss: 0.3113 - accuracy: 0.8635 - val_loss: 0.3473 - val_accuracy: 0.8410\n",
      "Epoch 22/200\n",
      "10000/10000 [==============================] - 9s 872us/step - loss: 0.3098 - accuracy: 0.8652 - val_loss: 0.3471 - val_accuracy: 0.8300\n",
      "Epoch 23/200\n",
      "10000/10000 [==============================] - 9s 861us/step - loss: 0.3059 - accuracy: 0.8683 - val_loss: 0.3428 - val_accuracy: 0.8390\n",
      "Epoch 24/200\n",
      "10000/10000 [==============================] - 9s 895us/step - loss: 0.3016 - accuracy: 0.8723 - val_loss: 0.3433 - val_accuracy: 0.8370\n",
      "Epoch 25/200\n",
      "10000/10000 [==============================] - 9s 872us/step - loss: 0.3043 - accuracy: 0.8686 - val_loss: 0.3502 - val_accuracy: 0.8350\n",
      "Epoch 26/200\n",
      "10000/10000 [==============================] - 9s 859us/step - loss: 0.2982 - accuracy: 0.8704 - val_loss: 0.3473 - val_accuracy: 0.8360\n",
      "Epoch 27/200\n",
      "10000/10000 [==============================] - 9s 853us/step - loss: 0.2990 - accuracy: 0.8655 - val_loss: 0.3538 - val_accuracy: 0.8370\n",
      "Epoch 28/200\n",
      "10000/10000 [==============================] - 9s 866us/step - loss: 0.2925 - accuracy: 0.8692 - val_loss: 0.3634 - val_accuracy: 0.8370\n",
      "Epoch 29/200\n",
      "10000/10000 [==============================] - 9s 878us/step - loss: 0.2959 - accuracy: 0.8699 - val_loss: 0.3446 - val_accuracy: 0.8340\n",
      "Epoch 30/200\n",
      "10000/10000 [==============================] - 9s 861us/step - loss: 0.2958 - accuracy: 0.8693 - val_loss: 0.3379 - val_accuracy: 0.8280\n",
      "Epoch 31/200\n",
      "10000/10000 [==============================] - 9s 856us/step - loss: 0.2946 - accuracy: 0.8700 - val_loss: 0.3441 - val_accuracy: 0.8290\n",
      "Epoch 32/200\n",
      "10000/10000 [==============================] - 9s 867us/step - loss: 0.2908 - accuracy: 0.8735 - val_loss: 0.3307 - val_accuracy: 0.8360\n",
      "Epoch 33/200\n",
      "10000/10000 [==============================] - 9s 858us/step - loss: 0.2898 - accuracy: 0.8749 - val_loss: 0.3452 - val_accuracy: 0.8360\n",
      "Epoch 34/200\n",
      "10000/10000 [==============================] - 9s 855us/step - loss: 0.2892 - accuracy: 0.8766 - val_loss: 0.3441 - val_accuracy: 0.8400\n",
      "Epoch 35/200\n",
      "10000/10000 [==============================] - 9s 855us/step - loss: 0.2899 - accuracy: 0.8709 - val_loss: 0.3484 - val_accuracy: 0.8370\n",
      "Epoch 36/200\n",
      "10000/10000 [==============================] - 9s 872us/step - loss: 0.2887 - accuracy: 0.8763 - val_loss: 0.3462 - val_accuracy: 0.8370\n",
      "Epoch 37/200\n",
      "10000/10000 [==============================] - 9s 870us/step - loss: 0.2849 - accuracy: 0.8780 - val_loss: 0.3645 - val_accuracy: 0.8250\n",
      "Epoch 38/200\n",
      "10000/10000 [==============================] - 9s 872us/step - loss: 0.2857 - accuracy: 0.8773 - val_loss: 0.3338 - val_accuracy: 0.8430\n",
      "Epoch 39/200\n",
      "10000/10000 [==============================] - 9s 872us/step - loss: 0.2877 - accuracy: 0.8751 - val_loss: 0.3487 - val_accuracy: 0.8400\n",
      "Epoch 40/200\n",
      "10000/10000 [==============================] - 9s 866us/step - loss: 0.2840 - accuracy: 0.8768 - val_loss: 0.3877 - val_accuracy: 0.8410\n",
      "Epoch 41/200\n",
      "10000/10000 [==============================] - 9s 872us/step - loss: 0.2840 - accuracy: 0.8803 - val_loss: 0.3390 - val_accuracy: 0.8390\n",
      "Epoch 42/200\n",
      "10000/10000 [==============================] - 9s 911us/step - loss: 0.2817 - accuracy: 0.8831 - val_loss: 0.3590 - val_accuracy: 0.8400\n",
      "Epoch 43/200\n",
      "10000/10000 [==============================] - 9s 903us/step - loss: 0.2813 - accuracy: 0.8796 - val_loss: 0.3629 - val_accuracy: 0.8420\n",
      "Epoch 44/200\n",
      "10000/10000 [==============================] - 9s 914us/step - loss: 0.2810 - accuracy: 0.8803 - val_loss: 0.3482 - val_accuracy: 0.8380\n",
      "Epoch 45/200\n",
      "10000/10000 [==============================] - 9s 875us/step - loss: 0.2806 - accuracy: 0.8827 - val_loss: 0.3473 - val_accuracy: 0.8360\n",
      "Epoch 46/200\n",
      "10000/10000 [==============================] - 9s 919us/step - loss: 0.2796 - accuracy: 0.8789 - val_loss: 0.3572 - val_accuracy: 0.8420\n",
      "Epoch 47/200\n",
      "10000/10000 [==============================] - 9s 883us/step - loss: 0.2767 - accuracy: 0.8827 - val_loss: 0.3594 - val_accuracy: 0.8490\n",
      "Epoch 48/200\n",
      "10000/10000 [==============================] - 9s 873us/step - loss: 0.2741 - accuracy: 0.8828 - val_loss: 0.3440 - val_accuracy: 0.8400\n",
      "Epoch 49/200\n",
      "10000/10000 [==============================] - 9s 880us/step - loss: 0.2769 - accuracy: 0.8823 - val_loss: 0.3816 - val_accuracy: 0.8420\n",
      "Epoch 50/200\n",
      "10000/10000 [==============================] - 9s 870us/step - loss: 0.2682 - accuracy: 0.8839 - val_loss: 0.3492 - val_accuracy: 0.8370\n",
      "Epoch 51/200\n",
      "10000/10000 [==============================] - 9s 873us/step - loss: 0.2711 - accuracy: 0.8867 - val_loss: 0.3611 - val_accuracy: 0.8360\n",
      "Epoch 52/200\n",
      "10000/10000 [==============================] - 9s 923us/step - loss: 0.2702 - accuracy: 0.8877 - val_loss: 0.3583 - val_accuracy: 0.8470\n",
      "Epoch 53/200\n",
      "10000/10000 [==============================] - 10s 1ms/step - loss: 0.2662 - accuracy: 0.8897 - val_loss: 0.3466 - val_accuracy: 0.8430\n",
      "Epoch 54/200\n",
      "10000/10000 [==============================] - 9s 923us/step - loss: 0.2665 - accuracy: 0.8882 - val_loss: 0.3558 - val_accuracy: 0.8430\n",
      "Epoch 55/200\n",
      "10000/10000 [==============================] - 9s 865us/step - loss: 0.2642 - accuracy: 0.8917 - val_loss: 0.3553 - val_accuracy: 0.8500\n",
      "Epoch 56/200\n",
      "10000/10000 [==============================] - 9s 880us/step - loss: 0.2670 - accuracy: 0.8901 - val_loss: 0.3475 - val_accuracy: 0.8510\n",
      "Epoch 57/200\n",
      "10000/10000 [==============================] - 8s 841us/step - loss: 0.2605 - accuracy: 0.8965 - val_loss: 0.3892 - val_accuracy: 0.8400\n",
      "Epoch 58/200\n",
      "10000/10000 [==============================] - 8s 837us/step - loss: 0.2590 - accuracy: 0.8944 - val_loss: 0.3558 - val_accuracy: 0.8510\n",
      "Epoch 59/200\n",
      "10000/10000 [==============================] - 8s 847us/step - loss: 0.2588 - accuracy: 0.8963 - val_loss: 0.3586 - val_accuracy: 0.8480\n",
      "Epoch 60/200\n",
      "10000/10000 [==============================] - 9s 889us/step - loss: 0.2524 - accuracy: 0.8982 - val_loss: 0.3521 - val_accuracy: 0.8500\n",
      "Epoch 61/200\n",
      "10000/10000 [==============================] - 9s 903us/step - loss: 0.2523 - accuracy: 0.8985 - val_loss: 0.3474 - val_accuracy: 0.8530\n",
      "Epoch 62/200\n",
      "10000/10000 [==============================] - 9s 919us/step - loss: 0.2507 - accuracy: 0.8998 - val_loss: 0.3651 - val_accuracy: 0.8590\n",
      "Epoch 63/200\n",
      "10000/10000 [==============================] - 9s 855us/step - loss: 0.2506 - accuracy: 0.9019 - val_loss: 0.3550 - val_accuracy: 0.8510\n",
      "Epoch 64/200\n",
      "10000/10000 [==============================] - 8s 841us/step - loss: 0.2471 - accuracy: 0.9026 - val_loss: 0.3565 - val_accuracy: 0.8520\n",
      "Epoch 65/200\n",
      "10000/10000 [==============================] - 8s 843us/step - loss: 0.2464 - accuracy: 0.8998 - val_loss: 0.3559 - val_accuracy: 0.8460\n",
      "Epoch 66/200\n",
      "10000/10000 [==============================] - 9s 936us/step - loss: 0.2444 - accuracy: 0.9056 - val_loss: 0.3910 - val_accuracy: 0.8510\n",
      "Epoch 67/200\n",
      "10000/10000 [==============================] - 8s 842us/step - loss: 0.2476 - accuracy: 0.9032 - val_loss: 0.3572 - val_accuracy: 0.8560\n",
      "Epoch 68/200\n",
      "10000/10000 [==============================] - 8s 836us/step - loss: 0.2360 - accuracy: 0.9049 - val_loss: 0.3564 - val_accuracy: 0.8560\n",
      "Epoch 69/200\n",
      "10000/10000 [==============================] - 8s 845us/step - loss: 0.2439 - accuracy: 0.9034 - val_loss: 0.3588 - val_accuracy: 0.8540\n",
      "Epoch 70/200\n",
      "10000/10000 [==============================] - 9s 852us/step - loss: 0.2336 - accuracy: 0.9072 - val_loss: 0.3514 - val_accuracy: 0.8520\n",
      "Epoch 71/200\n",
      "10000/10000 [==============================] - 9s 866us/step - loss: 0.2363 - accuracy: 0.9073 - val_loss: 0.3615 - val_accuracy: 0.8520\n",
      "Epoch 72/200\n",
      "10000/10000 [==============================] - 9s 856us/step - loss: 0.2320 - accuracy: 0.9103 - val_loss: 0.3551 - val_accuracy: 0.8590\n",
      "Epoch 73/200\n",
      "10000/10000 [==============================] - 9s 891us/step - loss: 0.2300 - accuracy: 0.9080 - val_loss: 0.4210 - val_accuracy: 0.8470\n",
      "Epoch 74/200\n",
      "10000/10000 [==============================] - 8s 845us/step - loss: 0.2310 - accuracy: 0.9062 - val_loss: 0.3578 - val_accuracy: 0.8600\n",
      "Epoch 75/200\n",
      "10000/10000 [==============================] - 9s 850us/step - loss: 0.2244 - accuracy: 0.9089 - val_loss: 0.3330 - val_accuracy: 0.8500\n",
      "Epoch 76/200\n",
      "10000/10000 [==============================] - 9s 938us/step - loss: 0.2244 - accuracy: 0.9107 - val_loss: 0.3671 - val_accuracy: 0.8520\n",
      "Epoch 77/200\n",
      "10000/10000 [==============================] - 9s 873us/step - loss: 0.2273 - accuracy: 0.9072 - val_loss: 0.3556 - val_accuracy: 0.8640\n",
      "Epoch 78/200\n",
      "10000/10000 [==============================] - 9s 881us/step - loss: 0.2197 - accuracy: 0.9122 - val_loss: 0.3327 - val_accuracy: 0.8640\n",
      "Epoch 79/200\n",
      "10000/10000 [==============================] - 9s 869us/step - loss: 0.2169 - accuracy: 0.9132 - val_loss: 0.3375 - val_accuracy: 0.8600\n",
      "Epoch 80/200\n",
      "10000/10000 [==============================] - 9s 855us/step - loss: 0.2125 - accuracy: 0.9121 - val_loss: 0.3372 - val_accuracy: 0.8640\n",
      "Epoch 81/200\n",
      "10000/10000 [==============================] - 9s 855us/step - loss: 0.2095 - accuracy: 0.9160 - val_loss: 0.3355 - val_accuracy: 0.8680\n",
      "Epoch 82/200\n",
      "10000/10000 [==============================] - 9s 875us/step - loss: 0.2080 - accuracy: 0.9173 - val_loss: 0.3240 - val_accuracy: 0.8740\n",
      "Epoch 83/200\n",
      "10000/10000 [==============================] - 9s 872us/step - loss: 0.2063 - accuracy: 0.9153 - val_loss: 0.3301 - val_accuracy: 0.8730\n",
      "Epoch 84/200\n",
      "10000/10000 [==============================] - 9s 873us/step - loss: 0.2044 - accuracy: 0.9173 - val_loss: 0.3372 - val_accuracy: 0.8690\n",
      "Epoch 85/200\n",
      "10000/10000 [==============================] - 9s 881us/step - loss: 0.2031 - accuracy: 0.9168 - val_loss: 0.3125 - val_accuracy: 0.8760\n",
      "Epoch 86/200\n",
      "10000/10000 [==============================] - 9s 852us/step - loss: 0.1934 - accuracy: 0.9203 - val_loss: 0.4146 - val_accuracy: 0.8720\n",
      "Epoch 87/200\n",
      "10000/10000 [==============================] - 9s 853us/step - loss: 0.1943 - accuracy: 0.9253 - val_loss: 0.3245 - val_accuracy: 0.8780\n",
      "Epoch 88/200\n",
      "10000/10000 [==============================] - 9s 922us/step - loss: 0.1857 - accuracy: 0.9224 - val_loss: 0.3286 - val_accuracy: 0.8800\n",
      "Epoch 89/200\n",
      "10000/10000 [==============================] - 9s 898us/step - loss: 0.1826 - accuracy: 0.9268 - val_loss: 0.3373 - val_accuracy: 0.8750\n",
      "Epoch 90/200\n",
      "10000/10000 [==============================] - 9s 887us/step - loss: 0.1844 - accuracy: 0.9275 - val_loss: 0.3193 - val_accuracy: 0.8800\n",
      "Epoch 91/200\n",
      "10000/10000 [==============================] - 9s 869us/step - loss: 0.1725 - accuracy: 0.9300 - val_loss: 0.3131 - val_accuracy: 0.8800\n",
      "Epoch 92/200\n",
      "10000/10000 [==============================] - 9s 870us/step - loss: 0.1637 - accuracy: 0.9309 - val_loss: 0.2964 - val_accuracy: 0.8860\n",
      "Epoch 93/200\n",
      "10000/10000 [==============================] - 9s 869us/step - loss: 0.1686 - accuracy: 0.9332 - val_loss: 0.3388 - val_accuracy: 0.8770\n",
      "Epoch 94/200\n",
      "10000/10000 [==============================] - 9s 880us/step - loss: 0.1687 - accuracy: 0.9341 - val_loss: 0.3209 - val_accuracy: 0.8810\n",
      "Epoch 95/200\n",
      "10000/10000 [==============================] - 9s 872us/step - loss: 0.1652 - accuracy: 0.9349 - val_loss: 0.2998 - val_accuracy: 0.8900\n",
      "Epoch 96/200\n",
      "10000/10000 [==============================] - 9s 873us/step - loss: 0.1580 - accuracy: 0.9386 - val_loss: 0.2954 - val_accuracy: 0.8930\n",
      "Epoch 97/200\n",
      "10000/10000 [==============================] - 9s 886us/step - loss: 0.1565 - accuracy: 0.9389 - val_loss: 0.3018 - val_accuracy: 0.8920\n",
      "Epoch 98/200\n",
      "10000/10000 [==============================] - 9s 872us/step - loss: 0.1556 - accuracy: 0.9404 - val_loss: 0.3104 - val_accuracy: 0.8800\n",
      "Epoch 99/200\n",
      "10000/10000 [==============================] - 9s 869us/step - loss: 0.1543 - accuracy: 0.9401 - val_loss: 0.3067 - val_accuracy: 0.8890\n",
      "Epoch 100/200\n",
      "10000/10000 [==============================] - 9s 867us/step - loss: 0.1473 - accuracy: 0.9439 - val_loss: 0.3318 - val_accuracy: 0.8880\n",
      "Epoch 101/200\n",
      "10000/10000 [==============================] - 9s 881us/step - loss: 0.1493 - accuracy: 0.9400 - val_loss: 0.3286 - val_accuracy: 0.8910\n",
      "Epoch 102/200\n",
      "10000/10000 [==============================] - 9s 875us/step - loss: 0.1530 - accuracy: 0.9420 - val_loss: 0.3268 - val_accuracy: 0.8920\n",
      "Epoch 103/200\n",
      "10000/10000 [==============================] - 9s 872us/step - loss: 0.1493 - accuracy: 0.9433 - val_loss: 0.2911 - val_accuracy: 0.8940\n",
      "Epoch 104/200\n",
      "10000/10000 [==============================] - 9s 886us/step - loss: 0.1503 - accuracy: 0.9433 - val_loss: 0.2885 - val_accuracy: 0.8910\n",
      "Epoch 105/200\n",
      "10000/10000 [==============================] - 9s 923us/step - loss: 0.1441 - accuracy: 0.9439 - val_loss: 0.3106 - val_accuracy: 0.8880\n",
      "Epoch 106/200\n",
      "10000/10000 [==============================] - 9s 900us/step - loss: 0.1464 - accuracy: 0.9440 - val_loss: 0.3424 - val_accuracy: 0.8800\n",
      "Epoch 107/200\n",
      "10000/10000 [==============================] - 9s 923us/step - loss: 0.1408 - accuracy: 0.9464 - val_loss: 0.2696 - val_accuracy: 0.8950\n",
      "Epoch 108/200\n",
      "10000/10000 [==============================] - 9s 944us/step - loss: 0.1384 - accuracy: 0.9468 - val_loss: 0.3080 - val_accuracy: 0.8920\n",
      "Epoch 109/200\n"
     ]
    },
    {
     "name": "stdout",
     "output_type": "stream",
     "text": [
      "10000/10000 [==============================] - 9s 852us/step - loss: 0.1302 - accuracy: 0.9502 - val_loss: 0.3466 - val_accuracy: 0.8970\n",
      "Epoch 110/200\n",
      "10000/10000 [==============================] - 9s 874us/step - loss: 0.1304 - accuracy: 0.9521 - val_loss: 0.3138 - val_accuracy: 0.8930\n",
      "Epoch 111/200\n",
      "10000/10000 [==============================] - 9s 870us/step - loss: 0.1327 - accuracy: 0.9489 - val_loss: 0.3360 - val_accuracy: 0.8850\n",
      "Epoch 112/200\n",
      "10000/10000 [==============================] - 9s 881us/step - loss: 0.1281 - accuracy: 0.9494 - val_loss: 0.3626 - val_accuracy: 0.8860\n",
      "Epoch 113/200\n",
      "10000/10000 [==============================] - 9s 888us/step - loss: 0.1248 - accuracy: 0.9547 - val_loss: 0.3606 - val_accuracy: 0.8860\n",
      "Epoch 114/200\n",
      "10000/10000 [==============================] - 9s 894us/step - loss: 0.1266 - accuracy: 0.9513 - val_loss: 0.3319 - val_accuracy: 0.8880\n",
      "Epoch 115/200\n",
      "10000/10000 [==============================] - 8s 842us/step - loss: 0.1300 - accuracy: 0.9538 - val_loss: 0.3322 - val_accuracy: 0.8940\n",
      "Epoch 116/200\n",
      "10000/10000 [==============================] - 8s 841us/step - loss: 0.1305 - accuracy: 0.9531 - val_loss: 0.3270 - val_accuracy: 0.8940\n",
      "Epoch 117/200\n",
      "10000/10000 [==============================] - 8s 841us/step - loss: 0.1211 - accuracy: 0.9558 - val_loss: 0.3644 - val_accuracy: 0.8890\n",
      "Epoch 118/200\n",
      "10000/10000 [==============================] - 9s 872us/step - loss: 0.1197 - accuracy: 0.9532 - val_loss: 0.3499 - val_accuracy: 0.8900\n",
      "Epoch 119/200\n",
      "10000/10000 [==============================] - 9s 864us/step - loss: 0.1174 - accuracy: 0.9557 - val_loss: 0.3586 - val_accuracy: 0.8880\n",
      "Epoch 120/200\n",
      "10000/10000 [==============================] - 9s 862us/step - loss: 0.1210 - accuracy: 0.9552 - val_loss: 0.4017 - val_accuracy: 0.8910\n",
      "Epoch 121/200\n",
      "10000/10000 [==============================] - 9s 856us/step - loss: 0.1188 - accuracy: 0.9557 - val_loss: 0.3842 - val_accuracy: 0.8960\n",
      "Epoch 122/200\n",
      "10000/10000 [==============================] - 8s 844us/step - loss: 0.1119 - accuracy: 0.9594 - val_loss: 0.3817 - val_accuracy: 0.8880\n",
      "Epoch 123/200\n",
      "10000/10000 [==============================] - 8s 844us/step - loss: 0.1213 - accuracy: 0.9552 - val_loss: 0.3609 - val_accuracy: 0.8930\n",
      "Epoch 124/200\n",
      "10000/10000 [==============================] - 8s 844us/step - loss: 0.1149 - accuracy: 0.9580 - val_loss: 0.3603 - val_accuracy: 0.8920\n",
      "Epoch 125/200\n",
      "10000/10000 [==============================] - 9s 858us/step - loss: 0.1234 - accuracy: 0.9544 - val_loss: 0.3424 - val_accuracy: 0.8940\n",
      "Epoch 126/200\n",
      "10000/10000 [==============================] - 9s 875us/step - loss: 0.1116 - accuracy: 0.9576 - val_loss: 0.3532 - val_accuracy: 0.8880\n",
      "Epoch 127/200\n",
      "10000/10000 [==============================] - 9s 883us/step - loss: 0.1044 - accuracy: 0.9617 - val_loss: 0.3448 - val_accuracy: 0.8920\n",
      "Epoch 128/200\n",
      "10000/10000 [==============================] - 9s 853us/step - loss: 0.1128 - accuracy: 0.9582 - val_loss: 0.3989 - val_accuracy: 0.8920\n",
      "Epoch 129/200\n",
      "10000/10000 [==============================] - 9s 867us/step - loss: 0.1077 - accuracy: 0.9592 - val_loss: 0.3526 - val_accuracy: 0.8970\n",
      "Epoch 130/200\n",
      "10000/10000 [==============================] - 8s 847us/step - loss: 0.1080 - accuracy: 0.9609 - val_loss: 0.3536 - val_accuracy: 0.8970\n",
      "Epoch 131/200\n",
      "10000/10000 [==============================] - 8s 845us/step - loss: 0.1065 - accuracy: 0.9620 - val_loss: 0.3820 - val_accuracy: 0.8950\n",
      "Epoch 132/200\n",
      "10000/10000 [==============================] - 9s 850us/step - loss: 0.1021 - accuracy: 0.9607 - val_loss: 0.3784 - val_accuracy: 0.8820\n",
      "Epoch 133/200\n",
      "10000/10000 [==============================] - 9s 853us/step - loss: 0.1005 - accuracy: 0.9633 - val_loss: 0.3873 - val_accuracy: 0.8930\n",
      "Epoch 134/200\n",
      "10000/10000 [==============================] - 9s 852us/step - loss: 0.1043 - accuracy: 0.9650 - val_loss: 0.3916 - val_accuracy: 0.8920\n",
      "Epoch 135/200\n",
      "10000/10000 [==============================] - 9s 870us/step - loss: 0.0995 - accuracy: 0.9649 - val_loss: 0.3916 - val_accuracy: 0.8980\n",
      "Epoch 136/200\n",
      "10000/10000 [==============================] - 9s 895us/step - loss: 0.0978 - accuracy: 0.9649 - val_loss: 0.4920 - val_accuracy: 0.8890\n",
      "Epoch 137/200\n",
      "10000/10000 [==============================] - 9s 870us/step - loss: 0.1001 - accuracy: 0.9661 - val_loss: 0.3889 - val_accuracy: 0.8910\n",
      "Epoch 138/200\n",
      "10000/10000 [==============================] - 9s 909us/step - loss: 0.1007 - accuracy: 0.9648 - val_loss: 0.4445 - val_accuracy: 0.8910\n",
      "Epoch 139/200\n",
      "10000/10000 [==============================] - 9s 903us/step - loss: 0.0940 - accuracy: 0.9651 - val_loss: 0.3573 - val_accuracy: 0.8950\n",
      "Epoch 140/200\n",
      "10000/10000 [==============================] - 9s 873us/step - loss: 0.0911 - accuracy: 0.9651 - val_loss: 0.4084 - val_accuracy: 0.8920\n",
      "Epoch 141/200\n",
      "10000/10000 [==============================] - 9s 881us/step - loss: 0.0939 - accuracy: 0.9666 - val_loss: 0.3909 - val_accuracy: 0.8820\n",
      "Epoch 142/200\n",
      "10000/10000 [==============================] - 9s 850us/step - loss: 0.0906 - accuracy: 0.9670 - val_loss: 0.4606 - val_accuracy: 0.8850\n",
      "Epoch 143/200\n",
      "10000/10000 [==============================] - 9s 864us/step - loss: 0.0879 - accuracy: 0.9702 - val_loss: 0.4142 - val_accuracy: 0.8930\n",
      "Epoch 144/200\n",
      "10000/10000 [==============================] - 8s 842us/step - loss: 0.0889 - accuracy: 0.9700 - val_loss: 0.4453 - val_accuracy: 0.8850\n",
      "Epoch 145/200\n",
      "10000/10000 [==============================] - 9s 855us/step - loss: 0.0871 - accuracy: 0.9684 - val_loss: 0.4799 - val_accuracy: 0.8880\n",
      "Epoch 146/200\n",
      "10000/10000 [==============================] - 8s 842us/step - loss: 0.0926 - accuracy: 0.9676 - val_loss: 0.4087 - val_accuracy: 0.8910\n",
      "Epoch 147/200\n",
      "10000/10000 [==============================] - 9s 853us/step - loss: 0.0816 - accuracy: 0.9699 - val_loss: 0.4295 - val_accuracy: 0.8950\n",
      "Epoch 148/200\n",
      "10000/10000 [==============================] - 8s 842us/step - loss: 0.0883 - accuracy: 0.9716 - val_loss: 0.4286 - val_accuracy: 0.8940\n",
      "Epoch 149/200\n",
      "10000/10000 [==============================] - 9s 850us/step - loss: 0.0847 - accuracy: 0.9693 - val_loss: 0.4191 - val_accuracy: 0.8940\n",
      "Epoch 150/200\n",
      "10000/10000 [==============================] - 8s 842us/step - loss: 0.0800 - accuracy: 0.9705 - val_loss: 0.4605 - val_accuracy: 0.8930\n",
      "Epoch 151/200\n",
      "10000/10000 [==============================] - 8s 845us/step - loss: 0.0888 - accuracy: 0.9708 - val_loss: 0.4520 - val_accuracy: 0.8960\n",
      "Epoch 152/200\n",
      "10000/10000 [==============================] - 8s 839us/step - loss: 0.0810 - accuracy: 0.9714 - val_loss: 0.4589 - val_accuracy: 0.8960\n",
      "Epoch 153/200\n",
      "10000/10000 [==============================] - 9s 855us/step - loss: 0.0808 - accuracy: 0.9723 - val_loss: 0.4412 - val_accuracy: 0.8950\n",
      "Epoch 154/200\n",
      "10000/10000 [==============================] - 8s 848us/step - loss: 0.0686 - accuracy: 0.9746 - val_loss: 0.5422 - val_accuracy: 0.8850\n",
      "Epoch 155/200\n",
      "10000/10000 [==============================] - 8s 841us/step - loss: 0.0742 - accuracy: 0.9736 - val_loss: 0.5833 - val_accuracy: 0.8700\n",
      "Epoch 156/200\n",
      "10000/10000 [==============================] - 9s 853us/step - loss: 0.0754 - accuracy: 0.9730 - val_loss: 0.4701 - val_accuracy: 0.8920\n",
      "Epoch 157/200\n",
      "10000/10000 [==============================] - 8s 845us/step - loss: 0.0751 - accuracy: 0.9736 - val_loss: 0.4828 - val_accuracy: 0.8870\n",
      "Epoch 158/200\n",
      "10000/10000 [==============================] - 8s 848us/step - loss: 0.0755 - accuracy: 0.9712 - val_loss: 0.4786 - val_accuracy: 0.8930\n",
      "Epoch 159/200\n",
      "10000/10000 [==============================] - 8s 842us/step - loss: 0.0708 - accuracy: 0.9764 - val_loss: 0.4409 - val_accuracy: 0.8970\n",
      "Epoch 160/200\n",
      "10000/10000 [==============================] - 9s 850us/step - loss: 0.0739 - accuracy: 0.9750 - val_loss: 0.4985 - val_accuracy: 0.8980\n",
      "Epoch 161/200\n",
      "10000/10000 [==============================] - 8s 845us/step - loss: 0.0694 - accuracy: 0.9739 - val_loss: 0.4816 - val_accuracy: 0.8920\n",
      "Epoch 162/200\n",
      "10000/10000 [==============================] - 15s 1ms/step - loss: 0.0726 - accuracy: 0.9746 - val_loss: 0.4856 - val_accuracy: 0.8920\n",
      "Epoch 163/200\n",
      "10000/10000 [==============================] - 14s 1ms/step - loss: 0.0721 - accuracy: 0.9742 - val_loss: 0.4524 - val_accuracy: 0.8960\n",
      "Epoch 164/200\n",
      "10000/10000 [==============================] - 13s 1ms/step - loss: 0.0662 - accuracy: 0.9770 - val_loss: 0.4535 - val_accuracy: 0.8890\n",
      "Epoch 165/200\n",
      "10000/10000 [==============================] - 13s 1ms/step - loss: 0.0681 - accuracy: 0.9788 - val_loss: 0.4626 - val_accuracy: 0.8930\n",
      "Epoch 166/200\n",
      "10000/10000 [==============================] - 13s 1ms/step - loss: 0.0611 - accuracy: 0.9785 - val_loss: 0.5481 - val_accuracy: 0.8970\n",
      "Epoch 167/200\n",
      "10000/10000 [==============================] - 13s 1ms/step - loss: 0.0693 - accuracy: 0.9772 - val_loss: 0.5296 - val_accuracy: 0.8840\n",
      "Epoch 168/200\n",
      "10000/10000 [==============================] - 13s 1ms/step - loss: 0.0662 - accuracy: 0.9776 - val_loss: 0.4833 - val_accuracy: 0.8940\n",
      "Epoch 169/200\n",
      "10000/10000 [==============================] - 13s 1ms/step - loss: 0.0604 - accuracy: 0.9783 - val_loss: 0.5058 - val_accuracy: 0.8920\n",
      "Epoch 170/200\n",
      "10000/10000 [==============================] - 13s 1ms/step - loss: 0.0622 - accuracy: 0.9791 - val_loss: 0.4658 - val_accuracy: 0.8960\n",
      "Epoch 171/200\n",
      "10000/10000 [==============================] - 13s 1ms/step - loss: 0.0655 - accuracy: 0.9776 - val_loss: 0.4873 - val_accuracy: 0.8980\n",
      "Epoch 172/200\n",
      "10000/10000 [==============================] - 13s 1ms/step - loss: 0.0606 - accuracy: 0.9795 - val_loss: 0.5296 - val_accuracy: 0.8940\n",
      "Epoch 173/200\n",
      "10000/10000 [==============================] - 13s 1ms/step - loss: 0.0651 - accuracy: 0.9775 - val_loss: 0.5058 - val_accuracy: 0.8920\n",
      "Epoch 174/200\n",
      "10000/10000 [==============================] - 13s 1ms/step - loss: 0.0538 - accuracy: 0.9817 - val_loss: 0.5015 - val_accuracy: 0.8960\n",
      "Epoch 175/200\n",
      "10000/10000 [==============================] - 14s 1ms/step - loss: 0.0535 - accuracy: 0.9820 - val_loss: 0.5744 - val_accuracy: 0.8920\n",
      "Epoch 176/200\n",
      "10000/10000 [==============================] - 15s 1ms/step - loss: 0.0578 - accuracy: 0.9795 - val_loss: 0.5412 - val_accuracy: 0.8970\n",
      "Epoch 177/200\n",
      "10000/10000 [==============================] - 15s 1ms/step - loss: 0.0628 - accuracy: 0.9818 - val_loss: 0.5946 - val_accuracy: 0.8850\n",
      "Epoch 178/200\n",
      "10000/10000 [==============================] - 15s 1ms/step - loss: 0.0606 - accuracy: 0.9806 - val_loss: 0.5356 - val_accuracy: 0.8900\n",
      "Epoch 179/200\n",
      "10000/10000 [==============================] - 15s 1ms/step - loss: 0.0630 - accuracy: 0.9772 - val_loss: 0.5876 - val_accuracy: 0.8860\n",
      "Epoch 180/200\n",
      "10000/10000 [==============================] - 15s 1ms/step - loss: 0.0650 - accuracy: 0.9789 - val_loss: 0.5317 - val_accuracy: 0.8920\n",
      "Epoch 181/200\n",
      "10000/10000 [==============================] - 15s 1ms/step - loss: 0.0536 - accuracy: 0.9833 - val_loss: 0.5428 - val_accuracy: 0.8940\n",
      "Epoch 182/200\n",
      "10000/10000 [==============================] - 15s 1ms/step - loss: 0.0593 - accuracy: 0.9814 - val_loss: 0.4879 - val_accuracy: 0.9030\n",
      "Epoch 183/200\n",
      "10000/10000 [==============================] - 14s 1ms/step - loss: 0.0546 - accuracy: 0.9825 - val_loss: 0.5683 - val_accuracy: 0.8950\n",
      "Epoch 184/200\n",
      "10000/10000 [==============================] - 14s 1ms/step - loss: 0.0511 - accuracy: 0.9820 - val_loss: 0.5930 - val_accuracy: 0.8800\n",
      "Epoch 185/200\n",
      "10000/10000 [==============================] - 14s 1ms/step - loss: 0.0537 - accuracy: 0.9833 - val_loss: 0.5756 - val_accuracy: 0.8990\n",
      "Epoch 186/200\n",
      "10000/10000 [==============================] - 15s 1ms/step - loss: 0.0544 - accuracy: 0.9824 - val_loss: 0.5975 - val_accuracy: 0.8830\n",
      "Epoch 187/200\n",
      "10000/10000 [==============================] - 14s 1ms/step - loss: 0.0545 - accuracy: 0.9812 - val_loss: 0.6070 - val_accuracy: 0.8870\n",
      "Epoch 188/200\n",
      "10000/10000 [==============================] - 12s 1ms/step - loss: 0.0502 - accuracy: 0.9838 - val_loss: 0.6020 - val_accuracy: 0.8890\n",
      "Epoch 189/200\n",
      "10000/10000 [==============================] - 13s 1ms/step - loss: 0.0495 - accuracy: 0.9844 - val_loss: 0.5459 - val_accuracy: 0.8910\n",
      "Epoch 190/200\n",
      "10000/10000 [==============================] - 12s 1ms/step - loss: 0.0474 - accuracy: 0.9845 - val_loss: 0.6584 - val_accuracy: 0.8860\n",
      "Epoch 191/200\n",
      "10000/10000 [==============================] - 12s 1ms/step - loss: 0.0548 - accuracy: 0.9824 - val_loss: 0.5953 - val_accuracy: 0.8880\n",
      "Epoch 192/200\n",
      "10000/10000 [==============================] - 12s 1ms/step - loss: 0.0472 - accuracy: 0.9851 - val_loss: 0.5344 - val_accuracy: 0.9030\n",
      "Epoch 193/200\n",
      "10000/10000 [==============================] - 13s 1ms/step - loss: 0.0525 - accuracy: 0.9834 - val_loss: 0.6044 - val_accuracy: 0.8900\n",
      "Epoch 194/200\n",
      "10000/10000 [==============================] - 12s 1ms/step - loss: 0.0477 - accuracy: 0.9840 - val_loss: 0.6251 - val_accuracy: 0.8840\n",
      "Epoch 195/200\n",
      "10000/10000 [==============================] - 12s 1ms/step - loss: 0.0452 - accuracy: 0.9852 - val_loss: 0.6477 - val_accuracy: 0.8880\n",
      "Epoch 196/200\n",
      "10000/10000 [==============================] - 12s 1ms/step - loss: 0.0496 - accuracy: 0.9845 - val_loss: 0.5473 - val_accuracy: 0.9000\n",
      "Epoch 197/200\n",
      "10000/10000 [==============================] - 12s 1ms/step - loss: 0.0410 - accuracy: 0.9862 - val_loss: 0.6228 - val_accuracy: 0.8910\n",
      "Epoch 198/200\n",
      "10000/10000 [==============================] - 12s 1ms/step - loss: 0.0501 - accuracy: 0.9856 - val_loss: 0.6428 - val_accuracy: 0.8940\n",
      "Epoch 199/200\n",
      "10000/10000 [==============================] - 12s 1ms/step - loss: 0.0423 - accuracy: 0.9843 - val_loss: 0.6232 - val_accuracy: 0.8930\n",
      "Epoch 200/200\n",
      "10000/10000 [==============================] - 12s 1ms/step - loss: 0.0416 - accuracy: 0.9870 - val_loss: 0.5987 - val_accuracy: 0.8930\n"
     ]
    }
   ],
   "source": [
    "history = model.fit([train_inputs, train_queries], train_answers, \n",
    "                    batch_size = 32, epochs = 200,\n",
    "                    validation_data=([test_inputs, test_queries], test_answers))"
   ]
  },
  {
   "cell_type": "markdown",
   "metadata": {},
   "source": [
    "### Evaluating the Model\n",
    "#### Plotting out the Training History"
   ]
  },
  {
   "cell_type": "code",
   "execution_count": 93,
   "metadata": {},
   "outputs": [
    {
     "name": "stdout",
     "output_type": "stream",
     "text": [
      "dict_keys(['val_loss', 'val_accuracy', 'loss', 'accuracy'])\n"
     ]
    },
    {
     "data": {
      "image/png": "[encoded data removed]",
      "text/plain": [
       "<Figure size 432x288 with 1 Axes>"
      ]
     },
     "metadata": {
      "needs_background": "light"
     },
     "output_type": "display_data"
    }
   ],
   "source": [
    "import matplotlib.pyplot as plt\n",
    "%matplotlib inline\n",
    "print(history.history.keys())\n",
    "# summarize history for accuracy\n",
    "plt.plot(history.history['accuracy'])\n",
    "plt.plot(history.history['val_accuracy'])\n",
    "plt.title('model accuracy')\n",
    "plt.ylabel('accuracy')\n",
    "plt.xlabel('epoch')\n",
    "plt.legend(['train', 'test'], loc='upper left')\n",
    "plt.show()"
   ]
  },
  {
   "cell_type": "code",
   "execution_count": 94,
   "metadata": {},
   "outputs": [],
   "source": [
    "pred_results = model.predict(([test_inputs, test_queries]))"
   ]
  },
  {
   "cell_type": "code",
   "execution_count": 118,
   "metadata": {},
   "outputs": [
    {
     "name": "stdout",
     "output_type": "stream",
     "text": [
      "Mary got the milk there . John moved to the bedroom .\n"
     ]
    }
   ],
   "source": [
    "story =' '.join(word for word in test_data[0][0])\n",
    "print(story)"
   ]
  },
  {
   "cell_type": "code",
   "execution_count": 119,
   "metadata": {},
   "outputs": [
    {
     "name": "stdout",
     "output_type": "stream",
     "text": [
      "Is John in the kitchen ?\n"
     ]
    }
   ],
   "source": [
    "query = ' '.join(word for word in test_data[0][1])\n",
    "print(query)"
   ]
  },
  {
   "cell_type": "code",
   "execution_count": 120,
   "metadata": {},
   "outputs": [
    {
     "name": "stdout",
     "output_type": "stream",
     "text": [
      "True Test Answer from Data is: no\n"
     ]
    }
   ],
   "source": [
    "print(\"True Test Answer from Data is:\",test_data[0][2])"
   ]
  },
  {
   "cell_type": "code",
   "execution_count": 121,
   "metadata": {},
   "outputs": [
    {
     "name": "stdout",
     "output_type": "stream",
     "text": [
      "Predicted answer is:  no\n",
      "Probability of certainty was:  0.9951676\n"
     ]
    }
   ],
   "source": [
    "#Generate prediction from model\n",
    "val_max = np.argmax(pred_results[0])\n",
    "\n",
    "for key, val in tokenizer.word_index.items():\n",
    "    if val == val_max:\n",
    "        k = key\n",
    "\n",
    "print(\"Predicted answer is: \", k)\n",
    "print(\"Probability of certainty was: \", pred_results[0][val_max])"
   ]
  },
  {
   "cell_type": "markdown",
   "metadata": {},
   "source": [
    "*Let's try testing with our own story*"
   ]
  },
  {
   "cell_type": "code",
   "execution_count": 122,
   "metadata": {},
   "outputs": [],
   "source": [
    "my_story = \"John left the kitchen . Sandra dropped the football in the garden .\"\n",
    "my_question = \"Is the football in the kitchen ?\"\n",
    "mydata = [(my_story.split(),my_question.split(),'no')]"
   ]
  },
  {
   "cell_type": "code",
   "execution_count": 123,
   "metadata": {},
   "outputs": [],
   "source": [
    "my_story,my_ques,my_ans = vectorize_data(mydata)"
   ]
  },
  {
   "cell_type": "code",
   "execution_count": 124,
   "metadata": {},
   "outputs": [],
   "source": [
    "pred_results = model.predict(([ my_story, my_ques]))"
   ]
  },
  {
   "cell_type": "code",
   "execution_count": 125,
   "metadata": {},
   "outputs": [
    {
     "name": "stdout",
     "output_type": "stream",
     "text": [
      "Predicted answer is:  no\n",
      "Probability of certainty was:  0.9951676\n"
     ]
    }
   ],
   "source": [
    "#Generate prediction from model\n",
    "val_max = np.argmax(pred_results[0])\n",
    "\n",
    "for key, val in tokenizer.word_index.items():\n",
    "    if val == val_max:\n",
    "        k = key\n",
    "\n",
    "print(\"Predicted answer is: \", k)\n",
    "print(\"Probability of certainty was: \", pred_results[0][val_max])"
   ]
  },
  {
   "cell_type": "markdown",
   "metadata": {},
   "source": [
    "### END"
   ]
  }
 ],
 "metadata": {
  "kernelspec": {
   "display_name": "Python 3",
   "language": "python",
   "name": "python3"
  },
  "language_info": {
   "codemirror_mode": {
    "name": "ipython",
    "version": 3
   },
   "file_extension": ".py",
   "mimetype": "text/x-python",
   "name": "python",
   "nbconvert_exporter": "python",
   "pygments_lexer": "ipython3",
   "version": "3.7.7"
  }
 },
 "nbformat": 4,
 "nbformat_minor": 4
}
